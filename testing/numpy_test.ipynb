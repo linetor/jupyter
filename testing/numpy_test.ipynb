{
 "cells": [
  {
   "cell_type": "code",
   "execution_count": 1,
   "metadata": {
    "collapsed": true
   },
   "outputs": [],
   "source": [
    "import numpy as np"
   ]
  },
  {
   "cell_type": "code",
   "execution_count": 3,
   "metadata": {},
   "outputs": [
    {
     "name": "stdout",
     "output_type": "stream",
     "text": [
      "[1 2 3 4 5] [ 1  4  9 16 25] [   1    4   27  256 3125]\n"
     ]
    }
   ],
   "source": [
    "x=np.array([1,2,3,4,5])\n",
    "y=np.array(x**2)\n",
    "z=np.array(x**x)\n",
    "print(x,y,z)"
   ]
  },
  {
   "cell_type": "code",
   "execution_count": 4,
   "metadata": {},
   "outputs": [
    {
     "data": {
      "text/plain": [
       "'0b1010'"
      ]
     },
     "execution_count": 4,
     "metadata": {},
     "output_type": "execute_result"
    }
   ],
   "source": [
    "bin(10) ##2진수"
   ]
  },
  {
   "cell_type": "code",
   "execution_count": 10,
   "metadata": {},
   "outputs": [
    {
     "name": "stdout",
     "output_type": "stream",
     "text": [
      "24\n"
     ]
    }
   ],
   "source": [
    "#permutaion\n",
    "from itertools import permutations\n",
    "per=permutations([1,2,3,4])\n",
    "permutations([1,2,3,4], 2)\n",
    "print(sum(1 for ignore in per))\n",
    "from itertools import product\n",
    "from itertools import combinations"
   ]
  },
  {
   "cell_type": "code",
   "execution_count": 13,
   "metadata": {},
   "outputs": [
    {
     "name": "stdout",
     "output_type": "stream",
     "text": [
      "(2, 3) (2, 3)\n",
      "[[-2  3]\n",
      " [-2  9]]\n"
     ]
    }
   ],
   "source": [
    "x=np.array([[1,2,3],[4,5,6]])\n",
    "y=np.array([[1,0,-1],[1,1,0]])\n",
    "print(x.shape,y.shape)\n",
    "print(np.dot(x,y.T))"
   ]
  },
  {
   "cell_type": "code",
   "execution_count": 75,
   "metadata": {},
   "outputs": [
    {
     "data": {
      "text/plain": [
       "0.5"
      ]
     },
     "execution_count": 75,
     "metadata": {},
     "output_type": "execute_result"
    }
   ],
   "source": [
    "from numpy import linalg\n",
    "linalg.det(linalg.inv(np.array([[1,2,2],[2,2,1],[1,2,1]])))"
   ]
  },
  {
   "cell_type": "code",
   "execution_count": 18,
   "metadata": {},
   "outputs": [
    {
     "data": {
      "text/plain": [
       "(array([[-0.48507125, -0.80845208, -0.33333333],\n",
       "        [ 0.48507125, -0.56591646,  0.66666667],\n",
       "        [-0.72760688,  0.16169042,  0.66666667]]),\n",
       " array([[-4.12310563, -0.48507125, -0.24253563],\n",
       "        [ 0.        , -2.18282063, -0.40422604],\n",
       "        [ 0.        ,  0.        ,  1.33333333]]))"
      ]
     },
     "execution_count": 18,
     "metadata": {},
     "output_type": "execute_result"
    }
   ],
   "source": [
    "linalg.qr(np.array([[2,2,0],[-2,1,1],[3,0,1]]))\n"
   ]
  },
  {
   "cell_type": "code",
   "execution_count": 21,
   "metadata": {},
   "outputs": [
    {
     "data": {
      "text/plain": [
       "4"
      ]
     },
     "execution_count": 21,
     "metadata": {},
     "output_type": "execute_result"
    }
   ],
   "source": [
    "np.trace(np.array([[2,2,0],[-2,1,1],[3,0,1]]))"
   ]
  },
  {
   "cell_type": "code",
   "execution_count": 22,
   "metadata": {},
   "outputs": [
    {
     "data": {
      "text/plain": [
       "11.999999999999995"
      ]
     },
     "execution_count": 22,
     "metadata": {},
     "output_type": "execute_result"
    }
   ],
   "source": [
    "linalg.det(np.array([[2,2,0],[-2,1,1],[3,0,1]]))"
   ]
  },
  {
   "cell_type": "code",
   "execution_count": 23,
   "metadata": {},
   "outputs": [
    {
     "data": {
      "text/plain": [
       "(array([ 0.82780538+2.10555033j,  0.82780538-2.10555033j,  2.34438924+0.j        ]),\n",
       " array([[ 0.03855929-0.4714928j ,  0.03855929+0.4714928j ,  0.40793471+0.j        ],\n",
       "        [ 0.47377641+0.31693492j,  0.47377641-0.31693492j,  0.07024416+0.j        ],\n",
       "        [-0.67178560+0.j        , -0.67178560-0.j        ,  0.91030491+0.j        ]]))"
      ]
     },
     "execution_count": 23,
     "metadata": {},
     "output_type": "execute_result"
    }
   ],
   "source": [
    "linalg.eig(np.array([[2,2,0],[-2,1,1],[3,0,1]]))"
   ]
  },
  {
   "cell_type": "code",
   "execution_count": 24,
   "metadata": {},
   "outputs": [
    {
     "data": {
      "text/plain": [
       "array([-3.,  6.,  4.])"
      ]
     },
     "execution_count": 24,
     "metadata": {},
     "output_type": "execute_result"
    }
   ],
   "source": [
    "linalg.solve(np.array([[3,2,1],[1,-1,3],[5,4,-2]]),np.array([7,3,1]))"
   ]
  },
  {
   "cell_type": "code",
   "execution_count": 25,
   "metadata": {},
   "outputs": [
    {
     "data": {
      "text/plain": [
       "array([[  3.72490000e+06,   1.93000000e+03,   1.00000000e+00],\n",
       "       [  3.76360000e+06,   1.94000000e+03,   1.00000000e+00],\n",
       "       [  3.80250000e+06,   1.95000000e+03,   1.00000000e+00],\n",
       "       [  3.84160000e+06,   1.96000000e+03,   1.00000000e+00],\n",
       "       [  3.88090000e+06,   1.97000000e+03,   1.00000000e+00],\n",
       "       [  3.92040000e+06,   1.98000000e+03,   1.00000000e+00],\n",
       "       [  3.96010000e+06,   1.99000000e+03,   1.00000000e+00],\n",
       "       [  4.00000000e+06,   2.00000000e+03,   1.00000000e+00],\n",
       "       [  4.04010000e+06,   2.01000000e+03,   1.00000000e+00]])"
      ]
     },
     "execution_count": 25,
     "metadata": {},
     "output_type": "execute_result"
    }
   ],
   "source": [
    "A = [[i**2, i, 1] for i in range(1930, 2020, 10)]\n",
    "matA = np.array(A).astype(np.float64)\n",
    "matA"
   ]
  },
  {
   "cell_type": "code",
   "execution_count": 26,
   "metadata": {},
   "outputs": [
    {
     "data": {
      "text/plain": [
       "(array([[-0.31976962,  0.51880251,  0.53777077, -0.0168249 ,  0.04075155,\n",
       "          0.01980856, -0.07965386, -0.25763573, -0.51413703],\n",
       "        [-0.32309188,  0.39434369,  0.13745023,  0.03592757,  0.18648649,\n",
       "          0.30616438,  0.39496125,  0.45287709,  0.47991191],\n",
       "        [-0.32643131,  0.26857409, -0.14891729, -0.45549534, -0.48539484,\n",
       "         -0.42205349, -0.26547129, -0.01564824,  0.32741567],\n",
       "        [-0.32978791,  0.14149369, -0.32133176,  0.83421249, -0.1711758 ,\n",
       "         -0.15580057, -0.11966183, -0.06275957,  0.01490621],\n",
       "        [-0.33316168,  0.0131025 , -0.3797932 , -0.1909815 ,  0.78707329,\n",
       "         -0.2078523 , -0.17575827, -0.11664461, -0.03051132],\n",
       "        [-0.33655261, -0.11659948, -0.32430161, -0.17572412, -0.20910386,\n",
       "          0.78067897, -0.20637563, -0.17026765, -0.1109971 ],\n",
       "        [-0.33996072, -0.24761226, -0.15485697, -0.12001535, -0.15970725,\n",
       "         -0.19020677,  0.78848608, -0.2236287 , -0.22655111],\n",
       "        [-0.34338599, -0.37993582,  0.1285407 , -0.0238552 , -0.06473686,\n",
       "         -0.12050951, -0.19117315,  0.72327224, -0.37717337],\n",
       "        [-0.34682844, -0.51357018,  0.5258914 ,  0.11275633,  0.07580728,\n",
       "         -0.01022926, -0.1453533 , -0.32956483,  0.43713614]]),\n",
       " array([  1.16487003e+07,   7.74116298e+01,   4.52260394e-04]),\n",
       " array([[ -9.99999871e-01,  -5.07352795e-04,  -2.57451054e-07],\n",
       "        [ -5.07352795e-04,   9.99999356e-01,   1.01533513e-03],\n",
       "        [  2.57682226e-07,  -1.01533513e-03,   9.99999485e-01]]))"
      ]
     },
     "execution_count": 26,
     "metadata": {},
     "output_type": "execute_result"
    }
   ],
   "source": [
    "np.linalg.svd(matA, full_matrices = True)"
   ]
  },
  {
   "cell_type": "code",
   "execution_count": 28,
   "metadata": {},
   "outputs": [],
   "source": [
    "from sympy import * #row echelon"
   ]
  },
  {
   "cell_type": "code",
   "execution_count": 29,
   "metadata": {},
   "outputs": [
    {
     "data": {
      "text/plain": [
       "(Matrix([\n",
       " [1, 0,   1,   3],\n",
       " [0, 1, 2/3, 1/3],\n",
       " [0, 0,   0,   0]]), (0, 1))"
      ]
     },
     "execution_count": 29,
     "metadata": {},
     "output_type": "execute_result"
    }
   ],
   "source": [
    "M = Matrix([[1, 0, 1, 3], [2, 3, 4, 7], [-1, -3, -3, -4]])\n",
    "M.rref()"
   ]
  },
  {
   "cell_type": "code",
   "execution_count": 33,
   "metadata": {},
   "outputs": [],
   "source": [
    "from numpy import array\n",
    "from scipy.linalg import lu\n",
    "\n",
    "A = array([[1, 1, 1, 1, 0, 1, 1, 1, 1, 0],\n",
    "           [1, 1, 0, 0, 1, 0, 1, 0, 1, 1],\n",
    "           [1, 1, 0, 0, 0, 1, 1, 0, 0, 0],\n",
    "           [0, 1, 0, 1, 1, 0, 1, 0, 0, 1],\n",
    "           [1, 1, 0, 0, 1, 1, 1, 1, 1, 1]])\n",
    "\n",
    "P, L, U = lu(A)"
   ]
  },
  {
   "cell_type": "code",
   "execution_count": 36,
   "metadata": {},
   "outputs": [
    {
     "data": {
      "text/plain": [
       "array([[ 1.,  1.,  1.,  1.,  0.,  1.,  1.,  1.,  1.,  0.],\n",
       "       [ 0.,  1.,  0.,  1.,  1.,  0.,  1.,  0.,  0.,  1.],\n",
       "       [ 0.,  0., -1., -1.,  0.,  0.,  0., -1., -1.,  0.],\n",
       "       [ 0.,  0.,  0.,  0.,  1., -1.,  0.,  0.,  1.,  1.],\n",
       "       [ 0.,  0.,  0.,  0.,  1.,  0.,  0.,  1.,  1.,  1.]])"
      ]
     },
     "execution_count": 36,
     "metadata": {},
     "output_type": "execute_result"
    }
   ],
   "source": [
    "U"
   ]
  },
  {
   "cell_type": "code",
   "execution_count": 37,
   "metadata": {},
   "outputs": [
    {
     "data": {
      "text/plain": [
       "[Matrix([\n",
       " [-15],\n",
       " [  6],\n",
       " [  1],\n",
       " [  0],\n",
       " [  0]]), Matrix([\n",
       " [0],\n",
       " [0],\n",
       " [0],\n",
       " [1],\n",
       " [0]]), Matrix([\n",
       " [   1],\n",
       " [-1/2],\n",
       " [   0],\n",
       " [   0],\n",
       " [   1]])]"
      ]
     },
     "execution_count": 37,
     "metadata": {},
     "output_type": "execute_result"
    }
   ],
   "source": [
    " M = Matrix([[1, 2, 3, 0, 0], [4, 10, 0, 0, 1]])\n",
    "M.nullspace()"
   ]
  },
  {
   "cell_type": "code",
   "execution_count": 38,
   "metadata": {},
   "outputs": [
    {
     "name": "stdout",
     "output_type": "stream",
     "text": [
      "37\n"
     ]
    }
   ],
   "source": [
    "a=167\n",
    "b=91\n",
    "c=0\n",
    "while a-2>b:\n",
    "    a=a-2\n",
    "    c=c+1\n",
    "print(c)    "
   ]
  },
  {
   "cell_type": "code",
   "execution_count": 41,
   "metadata": {},
   "outputs": [
    {
     "data": {
      "text/plain": [
       "False"
      ]
     },
     "execution_count": 41,
     "metadata": {},
     "output_type": "execute_result"
    }
   ],
   "source": [
    "tan(pi)>sin(pi)"
   ]
  },
  {
   "cell_type": "code",
   "execution_count": 42,
   "metadata": {},
   "outputs": [
    {
     "data": {
      "text/plain": [
       "False"
      ]
     },
     "execution_count": 42,
     "metadata": {},
     "output_type": "execute_result"
    }
   ],
   "source": [
    "sin(1 / 10000) > cos(1 / 10000)"
   ]
  },
  {
   "cell_type": "code",
   "execution_count": 43,
   "metadata": {},
   "outputs": [
    {
     "data": {
      "text/plain": [
       "False"
      ]
     },
     "execution_count": 43,
     "metadata": {},
     "output_type": "execute_result"
    }
   ],
   "source": [
    "3^(3^100000) > 4^(2^100000)"
   ]
  },
  {
   "cell_type": "code",
   "execution_count": 49,
   "metadata": {},
   "outputs": [
    {
     "ename": "TypeError",
     "evalue": "'int' object is not callable",
     "output_type": "error",
     "traceback": [
      "\u001b[1;31m---------------------------------------------------------------------------\u001b[0m",
      "\u001b[1;31mTypeError\u001b[0m                                 Traceback (most recent call last)",
      "\u001b[1;32m<ipython-input-49-0537d27258cf>\u001b[0m in \u001b[0;36m<module>\u001b[1;34m()\u001b[0m\n\u001b[0;32m      1\u001b[0m \u001b[1;32mimport\u001b[0m \u001b[0mmath\u001b[0m\u001b[1;33m\u001b[0m\u001b[0m\n\u001b[1;32m----> 2\u001b[1;33m \u001b[0mmath\u001b[0m\u001b[1;33m.\u001b[0m\u001b[0mlog\u001b[0m\u001b[1;33m(\u001b[0m\u001b[1;33m(\u001b[0m\u001b[1;36m2\u001b[0m\u001b[1;33m**\u001b[0m\u001b[1;36m1000\u001b[0m\u001b[1;33m)\u001b[0m\u001b[1;33m(\u001b[0m\u001b[1;36m3\u001b[0m\u001b[1;33m**\u001b[0m\u001b[1;36m100\u001b[0m\u001b[1;33m)\u001b[0m\u001b[1;33m)\u001b[0m \u001b[1;33m<\u001b[0m \u001b[0mmath\u001b[0m\u001b[1;33m.\u001b[0m\u001b[0mlog\u001b[0m\u001b[1;33m(\u001b[0m\u001b[1;33m(\u001b[0m\u001b[1;36m3\u001b[0m\u001b[1;33m**\u001b[0m\u001b[1;36m10000\u001b[0m\u001b[1;33m)\u001b[0m\u001b[1;33m*\u001b[0m\u001b[1;33m(\u001b[0m\u001b[1;36m2\u001b[0m\u001b[1;33m**\u001b[0m\u001b[1;36m1000\u001b[0m\u001b[1;33m)\u001b[0m\u001b[1;33m)\u001b[0m\u001b[1;33m\u001b[0m\u001b[0m\n\u001b[0m",
      "\u001b[1;31mTypeError\u001b[0m: 'int' object is not callable"
     ]
    }
   ],
   "source": [
    "import math\n",
    "math.log((2**1000)(3**100)) < math.log((3**10000)*(2**1000))"
   ]
  },
  {
   "cell_type": "code",
   "execution_count": 59,
   "metadata": {},
   "outputs": [
    {
     "name": "stdout",
     "output_type": "stream",
     "text": [
      "810\n"
     ]
    }
   ],
   "source": [
    "\n",
    "a=0\n",
    "b=2\n",
    "while b<30 :\n",
    "    if b in [2, 3, 5, 7, 11, 13, 17, 19, 23, 29]:\n",
    "        a=a+81\n",
    "    b=b+1\n",
    "print(a)\n",
    "    "
   ]
  },
  {
   "cell_type": "code",
   "execution_count": 62,
   "metadata": {},
   "outputs": [],
   "source": [
    "sum = 0\n",
    "for n in range(1,101):\n",
    "    if n%2==1:\n",
    "        sum = sum + n\n",
    "    else:\n",
    "        sum = sum - 2"
   ]
  },
  {
   "cell_type": "code",
   "execution_count": 64,
   "metadata": {},
   "outputs": [
    {
     "name": "stdout",
     "output_type": "stream",
     "text": [
      "1\n"
     ]
    }
   ],
   "source": [
    "for x in range(1,2):\n",
    "    print(x)"
   ]
  },
  {
   "cell_type": "code",
   "execution_count": 66,
   "metadata": {},
   "outputs": [],
   "source": [
    "def f(x):\n",
    "    result = 1\n",
    "    for i in range(1,x+1):\n",
    "        result = result + i \n",
    "    return result\n"
   ]
  },
  {
   "cell_type": "code",
   "execution_count": 67,
   "metadata": {},
   "outputs": [
    {
     "data": {
      "text/plain": [
       "436"
      ]
     },
     "execution_count": 67,
     "metadata": {},
     "output_type": "execute_result"
    }
   ],
   "source": [
    "f(f(f(3)))"
   ]
  },
  {
   "cell_type": "code",
   "execution_count": 68,
   "metadata": {},
   "outputs": [
    {
     "data": {
      "text/plain": [
       "29"
      ]
     },
     "execution_count": 68,
     "metadata": {},
     "output_type": "execute_result"
    }
   ],
   "source": [
    "f(f(3))"
   ]
  },
  {
   "cell_type": "code",
   "execution_count": 69,
   "metadata": {},
   "outputs": [
    {
     "data": {
      "text/plain": [
       "7"
      ]
     },
     "execution_count": 69,
     "metadata": {},
     "output_type": "execute_result"
    }
   ],
   "source": [
    "f(3)"
   ]
  },
  {
   "cell_type": "code",
   "execution_count": 73,
   "metadata": {},
   "outputs": [
    {
     "name": "stdout",
     "output_type": "stream",
     "text": [
      "0.2932932238890714\n"
     ]
    }
   ],
   "source": [
    "sum=0\n",
    "for x in range(len([2, 3, 5, 7, 11, 13, 17, 19, 23, 29])-1):\n",
    "    sum=sum+1/([2, 3, 5, 7, 11, 13, 17, 19, 23, 29][x]*[2, 3, 5, 7, 11, 13, 17, 19, 23, 29][x+1])\n",
    "print(sum)\n",
    "    \n",
    "    "
   ]
  },
  {
   "cell_type": "code",
   "execution_count": 74,
   "metadata": {},
   "outputs": [
    {
     "data": {
      "text/plain": [
       "0.0011123470522803114"
      ]
     },
     "execution_count": 74,
     "metadata": {},
     "output_type": "execute_result"
    }
   ],
   "source": [
    "1/(29*31)"
   ]
  },
  {
   "cell_type": "code",
   "execution_count": null,
   "metadata": {
    "collapsed": true
   },
   "outputs": [],
   "source": []
  }
 ],
 "metadata": {
  "kernelspec": {
   "display_name": "Python 3",
   "language": "python",
   "name": "python3"
  },
  "language_info": {
   "codemirror_mode": {
    "name": "ipython",
    "version": 3
   },
   "file_extension": ".py",
   "mimetype": "text/x-python",
   "name": "python",
   "nbconvert_exporter": "python",
   "pygments_lexer": "ipython3",
   "version": "3.7.7"
  }
 },
 "nbformat": 4,
 "nbformat_minor": 2
}
