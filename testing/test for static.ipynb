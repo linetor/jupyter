{
 "cells": [
  {
   "cell_type": "code",
   "execution_count": 2,
   "metadata": {},
   "outputs": [],
   "source": [
    "price=0\n",
    "mean=0\n",
    "std=0"
   ]
  },
  {
   "cell_type": "code",
   "execution_count": 3,
   "metadata": {},
   "outputs": [],
   "source": [
    "zScore=0\n",
    "if(std>=0.001):\n",
    "    zScore=(price-mean)/std\n",
    "    zScore=min(max(zScore,3),-3)"
   ]
  },
  {
   "cell_type": "code",
   "execution_count": 1,
   "metadata": {},
   "outputs": [],
   "source": [
    "default=1"
   ]
  },
  {
   "cell_type": "code",
   "execution_count": 105,
   "metadata": {},
   "outputs": [],
   "source": [
    "std_v=0.05"
   ]
  },
  {
   "cell_type": "code",
   "execution_count": 124,
   "metadata": {},
   "outputs": [],
   "source": [
    "std_v=0.1"
   ]
  },
  {
   "cell_type": "code",
   "execution_count": 146,
   "metadata": {},
   "outputs": [],
   "source": [
    "std_v=0.2"
   ]
  },
  {
   "cell_type": "code",
   "execution_count": 162,
   "metadata": {},
   "outputs": [],
   "source": [
    "price=8000\n",
    "mean=1000\n",
    "std=400"
   ]
  },
  {
   "cell_type": "code",
   "execution_count": 163,
   "metadata": {},
   "outputs": [
    {
     "name": "stdout",
     "output_type": "stream",
     "text": [
      "3\n"
     ]
    }
   ],
   "source": [
    "zScore=0\n",
    "if(std>0.001):\n",
    "    zScore=(price-mean)/std\n",
    "    zScore=min(max(zScore,-3),3)\n",
    "print(zScore)"
   ]
  },
  {
   "cell_type": "code",
   "execution_count": 164,
   "metadata": {},
   "outputs": [
    {
     "name": "stdout",
     "output_type": "stream",
     "text": [
      "-3\n",
      "-0.2\n",
      "0.8\n"
     ]
    }
   ],
   "source": [
    "lv=default-std_v\n",
    "hv=default+std_v\n",
    "scale=std_v\n",
    "\n",
    "score=1.0\n",
    "if(zScore<0 and zScore >= -1):\n",
    "    zScore=zScore*-1 * 3\n",
    "else:\n",
    "    zScore=abs(zScore)*-1\n",
    "print(zScore)\n",
    "zScore=(zScore / 3 *scale)\n",
    "print(zScore)    \n",
    "score=1+zScore\n",
    "score=min(max(lv,score),hv)\n",
    "print(score)"
   ]
  },
  {
   "cell_type": "code",
   "execution_count": null,
   "metadata": {},
   "outputs": [],
   "source": []
  },
  {
   "cell_type": "code",
   "execution_count": null,
   "metadata": {},
   "outputs": [],
   "source": []
  }
 ],
 "metadata": {
  "kernelspec": {
   "display_name": "Python 3",
   "language": "python",
   "name": "python3"
  },
  "language_info": {
   "codemirror_mode": {
    "name": "ipython",
    "version": 3
   },
   "file_extension": ".py",
   "mimetype": "text/x-python",
   "name": "python",
   "nbconvert_exporter": "python",
   "pygments_lexer": "ipython3",
   "version": "3.7.7"
  }
 },
 "nbformat": 4,
 "nbformat_minor": 4
}
