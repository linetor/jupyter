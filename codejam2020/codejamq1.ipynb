{
 "cells": [
  {
   "cell_type": "code",
   "execution_count": 35,
   "metadata": {},
   "outputs": [],
   "source": [
    "f = open(\"qutest1.txt\",'r')"
   ]
  },
  {
   "cell_type": "code",
   "execution_count": 36,
   "metadata": {},
   "outputs": [],
   "source": [
    "testNumber=int(f.readline())"
   ]
  },
  {
   "cell_type": "code",
   "execution_count": 37,
   "metadata": {},
   "outputs": [
    {
     "name": "stdout",
     "output_type": "stream",
     "text": [
      "4 0 0\n",
      "9 4 4\n",
      "8 0 2\n"
     ]
    }
   ],
   "source": [
    "for x in range(testNumber):\n",
    "    trace=0;\n",
    "    rowUnique=0\n",
    "    colNumber=int(f.readline())\n",
    "    colMap={}\n",
    "    for y in range(colNumber):\n",
    "        colMap[y]=set([])\n",
    "        \n",
    "    for y in range(colNumber):\n",
    "        rowNumbers=[int(x) for x in f.readline().split(\" \")]\n",
    "        trace=trace+rowNumbers[y]\n",
    "        for ikey in list(colMap):\n",
    "            colMap[ikey].add(rowNumbers[ikey])\n",
    "            if(len(colMap[ikey])!=y+1):\n",
    "                del colMap[ikey]        \n",
    "        if(len(set(rowNumbers))!=colNumber):\n",
    "            rowUnique=rowUnique+1\n",
    "    print(trace,rowUnique,colNumber-len(colMap))"
   ]
  },
  {
   "cell_type": "code",
   "execution_count": 34,
   "metadata": {},
   "outputs": [],
   "source": [
    "f.close()"
   ]
  },
  {
   "cell_type": "code",
   "execution_count": null,
   "metadata": {},
   "outputs": [],
   "source": []
  }
 ],
 "metadata": {
  "kernelspec": {
   "display_name": "Python 3",
   "language": "python",
   "name": "python3"
  },
  "language_info": {
   "codemirror_mode": {
    "name": "ipython",
    "version": 3
   },
   "file_extension": ".py",
   "mimetype": "text/x-python",
   "name": "python",
   "nbconvert_exporter": "python",
   "pygments_lexer": "ipython3",
   "version": "3.7.7"
  }
 },
 "nbformat": 4,
 "nbformat_minor": 4
}
