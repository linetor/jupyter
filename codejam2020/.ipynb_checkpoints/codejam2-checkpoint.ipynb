{
 "cells": [
  {
   "cell_type": "code",
   "execution_count": 6,
   "metadata": {},
   "outputs": [
    {
     "name": "stdout",
     "output_type": "stream",
     "text": [
      "Case #1: CJC\n",
      "Case #2: IMPOSSIBLE\n",
      "Case #3: CJJCJ\n",
      "Case #4: CJ\n",
      "Case #5: CJCC\n"
     ]
    }
   ],
   "source": [
    "with open(\"codejam2input\",'r') as f:\n",
    "    testNumber=int(f.readline())\n",
    "    for x in range(testNumber):\n",
    "        timeList=[]\n",
    "        timeNumber=int(f.readline())\n",
    "        for y in range(timeNumber):\n",
    "            timeCheck=[int(x) for x in f.readline().split(\" \")]\n",
    "            timeList.append(timeCheck)\n",
    "        timeList.sort(key = lambda element : element[1])\n",
    "        timeList.sort(key = lambda element : element[0])\n",
    "        \n",
    "        usedResource={}\n",
    "        remainResource=set([\"C\",\"J\"])\n",
    "        resultList=[]\n",
    "        impo=False;\n",
    "        for startTime, endTime in timeList:\n",
    "            releaseResource=[]\n",
    "            for ckResource in usedResource:\n",
    "                if(usedResource[ckResource][1]<=startTime):\n",
    "                    releaseResource.append(ckResource)\n",
    "            for tempR in releaseResource:\n",
    "                del usedResource[tempR]\n",
    "                remainResource.add(tempR)\n",
    "            \n",
    "            if len(remainResource)>0:\n",
    "                thisResource=remainResource.pop()\n",
    "                resultList.append(thisResource)\n",
    "                usedResource[thisResource]=(startTime,endTime)\n",
    "            else :\n",
    "                impo=True;\n",
    "                break\n",
    "        \n",
    "        if(impo==False):\n",
    "            print(\"Case #{}: {}\".format(x+1,\"\".join(resultList)))\n",
    "        else:\n",
    "            print(\"Case #{}: {}\".format(x+1, \"IMPOSSIBLE\"))\n",
    "        \n",
    "        "
   ]
  },
  {
   "cell_type": "code",
   "execution_count": null,
   "metadata": {},
   "outputs": [],
   "source": [
    "f = open(\"codejam2input\",'r')"
   ]
  },
  {
   "cell_type": "code",
   "execution_count": null,
   "metadata": {},
   "outputs": [],
   "source": [
    "testNumber=int(f.readline())"
   ]
  },
  {
   "cell_type": "code",
   "execution_count": null,
   "metadata": {},
   "outputs": [],
   "source": [
    "for x in range(testNumber):\n",
    "    timeList=[]\n",
    "    timeNumber=int(f.readline())\n",
    "    for y in range(timeNumber):\n",
    "        timeCheck=[int(x) for x in f.readline().split(\" \")]\n",
    "        timeList.append(timeCheck)\n",
    "    timeList.sort(key = lambda element : element[1])\n",
    "    timeList.sort(key = lambda element : element[0])\n",
    "\n",
    "\n",
    "    past2Start=-2\n",
    "    past2End=-1\n",
    "    \n",
    "    pastStart=timeList[0][0]\n",
    "    pastEnd=timeList[0][1]\n",
    "    \n",
    "    peopleMap={}\n",
    "    peopleMap[1]=\"C\"\n",
    "    peopleMap[-1]=\"J\"\n",
    "    peopleIndex=-1\n",
    "    impo=False\n",
    "    print(timeList)\n",
    "    peopleList=[\"C\"]\n",
    "    for startTime,endTime in timeList[1:]:\n",
    "        \n",
    "        maxStart=max(max(past2Start,pastStart),startTime)\n",
    "        minEnd=min(min(past2End,pastEnd),endTime)\n",
    "        if(maxStart < minEnd):\n",
    "            \n",
    "            impo=True\n",
    "            break\n",
    "               \n",
    "                            \n",
    "        \n",
    "        if(startTime>=max(pastEnd,past2End) ):\n",
    "            peopleList.append(peopleMap[peopleIndex])\n",
    "            \n",
    "           \n",
    "        else:\n",
    "            if(endTime<=max(pastEnd,past2End)):\n",
    "                peopleList.append(peopleMap[peopleIndex])           \n",
    "            else: \n",
    "                peopleList.append(peopleMap[peopleIndex])\n",
    "                peopleIndex=peopleIndex* -1\n",
    "              \n",
    "        past2Start=pastStart\n",
    "        past2End=pastEnd\n",
    "\n",
    "        pastStart=startTime\n",
    "        pastEnd=endTime\n",
    "    \n",
    "        \n",
    "        \n",
    "    if(impo==False):\n",
    "        print(\"!!\",x,peopleList)\n",
    "    else:\n",
    "        print(\"!!\",x,\"Impo\")\n"
   ]
  }
 ],
 "metadata": {
  "kernelspec": {
   "display_name": "Python 3",
   "language": "python",
   "name": "python3"
  },
  "language_info": {
   "codemirror_mode": {
    "name": "ipython",
    "version": 3
   },
   "file_extension": ".py",
   "mimetype": "text/x-python",
   "name": "python",
   "nbconvert_exporter": "python",
   "pygments_lexer": "ipython3",
   "version": "3.7.7"
  }
 },
 "nbformat": 4,
 "nbformat_minor": 4
}
